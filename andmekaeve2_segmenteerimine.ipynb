{
  "nbformat": 4,
  "nbformat_minor": 0,
  "metadata": {
    "colab": {
      "name": "andmekaeve2-segmenteerimine.ipynb",
      "provenance": [],
      "collapsed_sections": [],
      "authorship_tag": "ABX9TyOyNZx3uKADDJ1EqgiGygP5",
      "include_colab_link": true
    },
    "kernelspec": {
      "name": "python3",
      "display_name": "Python 3"
    }
  },
  "cells": [
    {
      "cell_type": "markdown",
      "metadata": {
        "id": "view-in-github",
        "colab_type": "text"
      },
      "source": [
        "<a href=\"https://colab.research.google.com/github/envomp/2020-Andmekaevandamine/blob/master/andmekaeve2_segmenteerimine.ipynb\" target=\"_parent\"><img src=\"https://colab.research.google.com/assets/colab-badge.svg\" alt=\"Open In Colab\"/></a>"
      ]
    },
    {
      "cell_type": "code",
      "metadata": {
        "id": "EbIla8-u-Jpw",
        "colab_type": "code",
        "colab": {
          "base_uri": "https://localhost:8080/",
          "height": 1378
        },
        "outputId": "56323fd2-abeb-487d-e45d-15870de1bbc9"
      },
      "source": [
        "from sklearn.metrics.pairwise import euclidean_distances\n",
        "from sklearn.preprocessing import MinMaxScaler\n",
        "from IPython.display import display, HTML\n",
        "import pandas as pd\n",
        "import time\n",
        "\n",
        "pattern = '%Y-%m-%d %H:%M:%S'\n",
        "chosen_rows = [90, 91, 92, 93]\n",
        "\n",
        "def get_data(rows):\n",
        "  # df = pd.read_excel('BitcoinAddresses.xlsx')\n",
        "  df = pd.read_excel('test.xlsx')\n",
        "  df = df.loc[rows].drop(['Aadress'], axis = 1)\n",
        "  map_timestamps = [\"First transaction\", \"Last transaction\"]\n",
        "  df[map_timestamps] = df[map_timestamps].applymap(lambda x: time.mktime(time.strptime(str(x), pattern)))\n",
        "\n",
        "  scaler = MinMaxScaler()\n",
        "  scaler.fit(df)\n",
        "  X = scaler.transform(df)\n",
        "  dist = euclidean_distances(X, X)\n",
        "  print(f\"Euclidean distances:\\n{dist}\\n\\n\")\n",
        "  return df, scaler, X, dist\n",
        "\n",
        "df1, scaler1, X1, dist1 = get_data(chosen_rows)\n",
        "\n",
        "while 1:\n",
        "  user_row = int(input())\n",
        "  total_rows = chosen_rows + [user_row]\n",
        "\n",
        "  print(f\"Checking rows: {total_rows}\")\n",
        "  df2, scaler2, X2, dist2 = get_data(total_rows)\n",
        "\n",
        "  minimum = 10000\n",
        "  for col in dist2[-1][:4]:\n",
        "    if col < minimum:\n",
        "      minimum = col\n",
        "\n",
        "  similar = list(dist2[-1]).index(minimum)\n",
        "  print(f\"Most similar to user selected row is: {similar + 1} with value {minimum}\\n\\n\")\n",
        "  rev = scaler2.inverse_transform(X2)\n",
        "  sel_rev = [rev[similar], rev[-1]]\n",
        "  print(f\"Reversed values are: {sel_rev}\\n\\n\")\n",
        "  answer_rows = [chosen_rows[similar], user_row]\n",
        "  display(HTML(df2.loc[answer_rows].to_html()))\n"
      ],
      "execution_count": 125,
      "outputs": [
        {
          "output_type": "stream",
          "text": [
            "Euclidean distances:\n",
            "[[0.         1.54710002 1.46992337 1.58200476]\n",
            " [1.54710002 0.         2.08468393 2.20746206]\n",
            " [1.46992337 2.08468393 0.         2.22709649]\n",
            " [1.58200476 2.20746206 2.22709649 0.        ]]\n",
            "\n",
            "\n",
            "89\n",
            "Checking rows: [90, 91, 92, 93, 89]\n",
            "Euclidean distances:\n",
            "[[0.         1.54710002 1.46992337 1.58200476 0.03128208]\n",
            " [1.54710002 0.         2.08468393 2.20746206 1.55026719]\n",
            " [1.46992337 2.08468393 0.         2.22709649 1.48086742]\n",
            " [1.58200476 2.20746206 2.22709649 0.         1.57233227]\n",
            " [0.03128208 1.55026719 1.48086742 1.57233227 0.        ]]\n",
            "\n",
            "\n",
            "Most similar to user selected row is: 1 with value 0.03128207904414963\n",
            "\n",
            "\n",
            "Reversed values are: [array([2.64036290e+02, 7.50000000e+01, 0.00000000e+00, 1.50144888e+09,\n",
            "       1.50158372e+09, 3.30000000e+03, 1.98027218e+04, 0.00000000e+00]), array([2.64036290e+02, 7.50000000e+01, 0.00000000e+00, 1.50136248e+09,\n",
            "       1.50149732e+09, 3.50000000e+03, 1.98027218e+04, 0.00000000e+00])]\n",
            "\n",
            "\n"
          ],
          "name": "stdout"
        },
        {
          "output_type": "display_data",
          "data": {
            "text/html": [
              "<table border=\"1\" class=\"dataframe\">\n",
              "  <thead>\n",
              "    <tr style=\"text-align: right;\">\n",
              "      <th></th>\n",
              "      <th>Average transaction</th>\n",
              "      <th>Number of Ins</th>\n",
              "      <th>Number of Outs</th>\n",
              "      <th>First transaction</th>\n",
              "      <th>Last transaction</th>\n",
              "      <th>Max transaction</th>\n",
              "      <th>Balance</th>\n",
              "      <th>Percentage Outgoing Transactions</th>\n",
              "    </tr>\n",
              "  </thead>\n",
              "  <tbody>\n",
              "    <tr>\n",
              "      <th>90</th>\n",
              "      <td>264.03629</td>\n",
              "      <td>75</td>\n",
              "      <td>0</td>\n",
              "      <td>1.501449e+09</td>\n",
              "      <td>1.501584e+09</td>\n",
              "      <td>3300.0</td>\n",
              "      <td>19802.721762</td>\n",
              "      <td>0.0</td>\n",
              "    </tr>\n",
              "    <tr>\n",
              "      <th>89</th>\n",
              "      <td>264.03629</td>\n",
              "      <td>75</td>\n",
              "      <td>0</td>\n",
              "      <td>1.501362e+09</td>\n",
              "      <td>1.501497e+09</td>\n",
              "      <td>3500.0</td>\n",
              "      <td>19802.721762</td>\n",
              "      <td>0.0</td>\n",
              "    </tr>\n",
              "  </tbody>\n",
              "</table>"
            ],
            "text/plain": [
              "<IPython.core.display.HTML object>"
            ]
          },
          "metadata": {
            "tags": []
          }
        },
        {
          "output_type": "stream",
          "text": [
            "98\n",
            "Checking rows: [90, 91, 92, 93, 98]\n",
            "Euclidean distances:\n",
            "[[0.         1.54318619 1.37492472 1.30714323 1.5513938 ]\n",
            " [1.54318619 0.         2.02595906 2.00666763 2.01171289]\n",
            " [1.37492472 2.02595906 0.         2.1288754  2.15080504]\n",
            " [1.30714323 2.00666763 2.1288754  0.         0.66365895]\n",
            " [1.5513938  2.01171289 2.15080504 0.66365895 0.        ]]\n",
            "\n",
            "\n",
            "Most similar to user selected row is: 4 with value 0.6636589469486374\n",
            "\n",
            "\n",
            "Reversed values are: [array([3.27272730e+03, 9.00000000e+00, 2.00000000e+00, 1.49262522e+09,\n",
            "       1.49869918e+09, 6.50000000e+03, 3.60000003e+04, 1.81818182e-01]), array([3.33466671e+03, 4.00000000e+00, 2.00000000e+00, 1.49070956e+09,\n",
            "       1.49071017e+09, 7.40800000e+03, 2.00080003e+04, 3.33333333e-01])]\n",
            "\n",
            "\n"
          ],
          "name": "stdout"
        },
        {
          "output_type": "display_data",
          "data": {
            "text/html": [
              "<table border=\"1\" class=\"dataframe\">\n",
              "  <thead>\n",
              "    <tr style=\"text-align: right;\">\n",
              "      <th></th>\n",
              "      <th>Average transaction</th>\n",
              "      <th>Number of Ins</th>\n",
              "      <th>Number of Outs</th>\n",
              "      <th>First transaction</th>\n",
              "      <th>Last transaction</th>\n",
              "      <th>Max transaction</th>\n",
              "      <th>Balance</th>\n",
              "      <th>Percentage Outgoing Transactions</th>\n",
              "    </tr>\n",
              "  </thead>\n",
              "  <tbody>\n",
              "    <tr>\n",
              "      <th>93</th>\n",
              "      <td>3272.727302</td>\n",
              "      <td>9</td>\n",
              "      <td>2</td>\n",
              "      <td>1.492625e+09</td>\n",
              "      <td>1.498699e+09</td>\n",
              "      <td>6500.0</td>\n",
              "      <td>36000.000317</td>\n",
              "      <td>0.181818</td>\n",
              "    </tr>\n",
              "    <tr>\n",
              "      <th>98</th>\n",
              "      <td>3334.666712</td>\n",
              "      <td>4</td>\n",
              "      <td>2</td>\n",
              "      <td>1.490710e+09</td>\n",
              "      <td>1.490710e+09</td>\n",
              "      <td>7408.0</td>\n",
              "      <td>20008.000273</td>\n",
              "      <td>0.333333</td>\n",
              "    </tr>\n",
              "  </tbody>\n",
              "</table>"
            ],
            "text/plain": [
              "<IPython.core.display.HTML object>"
            ]
          },
          "metadata": {
            "tags": []
          }
        },
        {
          "output_type": "stream",
          "text": [
            "89\n",
            "Checking rows: [90, 91, 92, 93, 89]\n",
            "Euclidean distances:\n",
            "[[0.         1.54710002 1.46992337 1.58200476 0.03128208]\n",
            " [1.54710002 0.         2.08468393 2.20746206 1.55026719]\n",
            " [1.46992337 2.08468393 0.         2.22709649 1.48086742]\n",
            " [1.58200476 2.20746206 2.22709649 0.         1.57233227]\n",
            " [0.03128208 1.55026719 1.48086742 1.57233227 0.        ]]\n",
            "\n",
            "\n",
            "Most similar to user selected row is: 1 with value 0.03128207904414963\n",
            "\n",
            "\n",
            "Reversed values are: [array([2.64036290e+02, 7.50000000e+01, 0.00000000e+00, 1.50144888e+09,\n",
            "       1.50158372e+09, 3.30000000e+03, 1.98027218e+04, 0.00000000e+00]), array([2.64036290e+02, 7.50000000e+01, 0.00000000e+00, 1.50136248e+09,\n",
            "       1.50149732e+09, 3.50000000e+03, 1.98027218e+04, 0.00000000e+00])]\n",
            "\n",
            "\n"
          ],
          "name": "stdout"
        },
        {
          "output_type": "display_data",
          "data": {
            "text/html": [
              "<table border=\"1\" class=\"dataframe\">\n",
              "  <thead>\n",
              "    <tr style=\"text-align: right;\">\n",
              "      <th></th>\n",
              "      <th>Average transaction</th>\n",
              "      <th>Number of Ins</th>\n",
              "      <th>Number of Outs</th>\n",
              "      <th>First transaction</th>\n",
              "      <th>Last transaction</th>\n",
              "      <th>Max transaction</th>\n",
              "      <th>Balance</th>\n",
              "      <th>Percentage Outgoing Transactions</th>\n",
              "    </tr>\n",
              "  </thead>\n",
              "  <tbody>\n",
              "    <tr>\n",
              "      <th>90</th>\n",
              "      <td>264.03629</td>\n",
              "      <td>75</td>\n",
              "      <td>0</td>\n",
              "      <td>1.501449e+09</td>\n",
              "      <td>1.501584e+09</td>\n",
              "      <td>3300.0</td>\n",
              "      <td>19802.721762</td>\n",
              "      <td>0.0</td>\n",
              "    </tr>\n",
              "    <tr>\n",
              "      <th>89</th>\n",
              "      <td>264.03629</td>\n",
              "      <td>75</td>\n",
              "      <td>0</td>\n",
              "      <td>1.501362e+09</td>\n",
              "      <td>1.501497e+09</td>\n",
              "      <td>3500.0</td>\n",
              "      <td>19802.721762</td>\n",
              "      <td>0.0</td>\n",
              "    </tr>\n",
              "  </tbody>\n",
              "</table>"
            ],
            "text/plain": [
              "<IPython.core.display.HTML object>"
            ]
          },
          "metadata": {
            "tags": []
          }
        },
        {
          "output_type": "stream",
          "text": [
            "1\n",
            "Checking rows: [90, 91, 92, 93, 1]\n",
            "Euclidean distances:\n",
            "[[0.         1.28632527 1.46973507 1.58014449 1.55980224]\n",
            " [1.28632527 0.         1.90969004 2.06397096 0.49372233]\n",
            " [1.46973507 1.90969004 0.         2.22646172 2.08156877]\n",
            " [1.58014449 2.06397096 2.22646172 0.         2.2609152 ]\n",
            " [1.55980224 0.49372233 2.08156877 2.2609152  0.        ]]\n",
            "\n",
            "\n",
            "Most similar to user selected row is: 2 with value 0.4937223256962131\n",
            "\n",
            "\n",
            "Reversed values are: [array([4.00000384e+02, 5.00000000e+00, 0.00000000e+00, 1.40255772e+09,\n",
            "       1.42799987e+09, 2.00000000e+03, 2.00000192e+03, 0.00000000e+00]), array([3.20000242e+02, 5.00000000e+00, 0.00000000e+00, 1.30792160e+09,\n",
            "       1.42799987e+09, 1.60000000e+03, 1.60000121e+03, 0.00000000e+00])]\n",
            "\n",
            "\n"
          ],
          "name": "stdout"
        },
        {
          "output_type": "display_data",
          "data": {
            "text/html": [
              "<table border=\"1\" class=\"dataframe\">\n",
              "  <thead>\n",
              "    <tr style=\"text-align: right;\">\n",
              "      <th></th>\n",
              "      <th>Average transaction</th>\n",
              "      <th>Number of Ins</th>\n",
              "      <th>Number of Outs</th>\n",
              "      <th>First transaction</th>\n",
              "      <th>Last transaction</th>\n",
              "      <th>Max transaction</th>\n",
              "      <th>Balance</th>\n",
              "      <th>Percentage Outgoing Transactions</th>\n",
              "    </tr>\n",
              "  </thead>\n",
              "  <tbody>\n",
              "    <tr>\n",
              "      <th>91</th>\n",
              "      <td>400.000384</td>\n",
              "      <td>5</td>\n",
              "      <td>0</td>\n",
              "      <td>1.402558e+09</td>\n",
              "      <td>1.428000e+09</td>\n",
              "      <td>2000.0</td>\n",
              "      <td>2000.00192</td>\n",
              "      <td>0.0</td>\n",
              "    </tr>\n",
              "    <tr>\n",
              "      <th>1</th>\n",
              "      <td>320.000242</td>\n",
              "      <td>5</td>\n",
              "      <td>0</td>\n",
              "      <td>1.307922e+09</td>\n",
              "      <td>1.428000e+09</td>\n",
              "      <td>1600.0</td>\n",
              "      <td>1600.00121</td>\n",
              "      <td>0.0</td>\n",
              "    </tr>\n",
              "  </tbody>\n",
              "</table>"
            ],
            "text/plain": [
              "<IPython.core.display.HTML object>"
            ]
          },
          "metadata": {
            "tags": []
          }
        },
        {
          "output_type": "stream",
          "text": [
            "2\n",
            "Checking rows: [90, 91, 92, 93, 2]\n",
            "Euclidean distances:\n",
            "[[0.         1.54406039 1.4647477  1.5793626  0.85099357]\n",
            " [1.54406039 0.         2.07302425 2.20745511 1.30987943]\n",
            " [1.4647477  2.07302425 0.         2.2167295  1.61526624]\n",
            " [1.5793626  2.20745511 2.2167295  0.         1.68185978]\n",
            " [0.85099357 1.30987943 1.61526624 1.68185978 0.        ]]\n",
            "\n",
            "\n",
            "Most similar to user selected row is: 1 with value 0.8509935744133665\n",
            "\n",
            "\n",
            "Reversed values are: [array([2.64036290e+02, 7.50000000e+01, 0.00000000e+00, 1.50144888e+09,\n",
            "       1.50158372e+09, 3.30000000e+03, 1.98027218e+04, 0.00000000e+00]), array([1.58624901e+03, 1.00000000e+00, 0.00000000e+00, 1.49397546e+09,\n",
            "       1.49397546e+09, 1.58624901e+03, 1.58624901e+03, 0.00000000e+00])]\n",
            "\n",
            "\n"
          ],
          "name": "stdout"
        },
        {
          "output_type": "display_data",
          "data": {
            "text/html": [
              "<table border=\"1\" class=\"dataframe\">\n",
              "  <thead>\n",
              "    <tr style=\"text-align: right;\">\n",
              "      <th></th>\n",
              "      <th>Average transaction</th>\n",
              "      <th>Number of Ins</th>\n",
              "      <th>Number of Outs</th>\n",
              "      <th>First transaction</th>\n",
              "      <th>Last transaction</th>\n",
              "      <th>Max transaction</th>\n",
              "      <th>Balance</th>\n",
              "      <th>Percentage Outgoing Transactions</th>\n",
              "    </tr>\n",
              "  </thead>\n",
              "  <tbody>\n",
              "    <tr>\n",
              "      <th>90</th>\n",
              "      <td>264.036290</td>\n",
              "      <td>75</td>\n",
              "      <td>0</td>\n",
              "      <td>1.501449e+09</td>\n",
              "      <td>1.501584e+09</td>\n",
              "      <td>3300.000000</td>\n",
              "      <td>19802.721762</td>\n",
              "      <td>0.0</td>\n",
              "    </tr>\n",
              "    <tr>\n",
              "      <th>2</th>\n",
              "      <td>1586.249015</td>\n",
              "      <td>1</td>\n",
              "      <td>0</td>\n",
              "      <td>1.493975e+09</td>\n",
              "      <td>1.493975e+09</td>\n",
              "      <td>1586.249015</td>\n",
              "      <td>1586.249015</td>\n",
              "      <td>0.0</td>\n",
              "    </tr>\n",
              "  </tbody>\n",
              "</table>"
            ],
            "text/plain": [
              "<IPython.core.display.HTML object>"
            ]
          },
          "metadata": {
            "tags": []
          }
        },
        {
          "output_type": "stream",
          "text": [
            "89\n",
            "Checking rows: [90, 91, 92, 93, 89]\n",
            "Euclidean distances:\n",
            "[[0.         1.54710002 1.46992337 1.58200476 0.03128208]\n",
            " [1.54710002 0.         2.08468393 2.20746206 1.55026719]\n",
            " [1.46992337 2.08468393 0.         2.22709649 1.48086742]\n",
            " [1.58200476 2.20746206 2.22709649 0.         1.57233227]\n",
            " [0.03128208 1.55026719 1.48086742 1.57233227 0.        ]]\n",
            "\n",
            "\n",
            "Most similar to user selected row is: 1 with value 0.03128207904414963\n",
            "\n",
            "\n",
            "Reversed values are: [array([2.64036290e+02, 7.50000000e+01, 0.00000000e+00, 1.50144888e+09,\n",
            "       1.50158372e+09, 3.30000000e+03, 1.98027218e+04, 0.00000000e+00]), array([2.64036290e+02, 7.50000000e+01, 0.00000000e+00, 1.50136248e+09,\n",
            "       1.50149732e+09, 3.50000000e+03, 1.98027218e+04, 0.00000000e+00])]\n",
            "\n",
            "\n"
          ],
          "name": "stdout"
        },
        {
          "output_type": "display_data",
          "data": {
            "text/html": [
              "<table border=\"1\" class=\"dataframe\">\n",
              "  <thead>\n",
              "    <tr style=\"text-align: right;\">\n",
              "      <th></th>\n",
              "      <th>Average transaction</th>\n",
              "      <th>Number of Ins</th>\n",
              "      <th>Number of Outs</th>\n",
              "      <th>First transaction</th>\n",
              "      <th>Last transaction</th>\n",
              "      <th>Max transaction</th>\n",
              "      <th>Balance</th>\n",
              "      <th>Percentage Outgoing Transactions</th>\n",
              "    </tr>\n",
              "  </thead>\n",
              "  <tbody>\n",
              "    <tr>\n",
              "      <th>90</th>\n",
              "      <td>264.03629</td>\n",
              "      <td>75</td>\n",
              "      <td>0</td>\n",
              "      <td>1.501449e+09</td>\n",
              "      <td>1.501584e+09</td>\n",
              "      <td>3300.0</td>\n",
              "      <td>19802.721762</td>\n",
              "      <td>0.0</td>\n",
              "    </tr>\n",
              "    <tr>\n",
              "      <th>89</th>\n",
              "      <td>264.03629</td>\n",
              "      <td>75</td>\n",
              "      <td>0</td>\n",
              "      <td>1.501362e+09</td>\n",
              "      <td>1.501497e+09</td>\n",
              "      <td>3500.0</td>\n",
              "      <td>19802.721762</td>\n",
              "      <td>0.0</td>\n",
              "    </tr>\n",
              "  </tbody>\n",
              "</table>"
            ],
            "text/plain": [
              "<IPython.core.display.HTML object>"
            ]
          },
          "metadata": {
            "tags": []
          }
        },
        {
          "output_type": "stream",
          "text": [
            "\u0004\n"
          ],
          "name": "stdout"
        },
        {
          "output_type": "error",
          "ename": "EOFError",
          "evalue": "ignored",
          "traceback": [
            "\u001b[0;31m---------------------------------------------------------------------------\u001b[0m",
            "\u001b[0;31mEOFError\u001b[0m                                  Traceback (most recent call last)",
            "\u001b[0;32m<ipython-input-125-b708ec28d007>\u001b[0m in \u001b[0;36m<module>\u001b[0;34m()\u001b[0m\n\u001b[1;32m     25\u001b[0m \u001b[0;34m\u001b[0m\u001b[0m\n\u001b[1;32m     26\u001b[0m \u001b[0;32mwhile\u001b[0m \u001b[0;36m1\u001b[0m\u001b[0;34m:\u001b[0m\u001b[0;34m\u001b[0m\u001b[0;34m\u001b[0m\u001b[0m\n\u001b[0;32m---> 27\u001b[0;31m   \u001b[0muser_row\u001b[0m \u001b[0;34m=\u001b[0m \u001b[0mint\u001b[0m\u001b[0;34m(\u001b[0m\u001b[0minput\u001b[0m\u001b[0;34m(\u001b[0m\u001b[0;34m)\u001b[0m\u001b[0;34m)\u001b[0m\u001b[0;34m\u001b[0m\u001b[0;34m\u001b[0m\u001b[0m\n\u001b[0m\u001b[1;32m     28\u001b[0m   \u001b[0mtotal_rows\u001b[0m \u001b[0;34m=\u001b[0m \u001b[0mchosen_rows\u001b[0m \u001b[0;34m+\u001b[0m \u001b[0;34m[\u001b[0m\u001b[0muser_row\u001b[0m\u001b[0;34m]\u001b[0m\u001b[0;34m\u001b[0m\u001b[0;34m\u001b[0m\u001b[0m\n\u001b[1;32m     29\u001b[0m \u001b[0;34m\u001b[0m\u001b[0m\n",
            "\u001b[0;32m/usr/local/lib/python3.6/dist-packages/ipykernel/kernelbase.py\u001b[0m in \u001b[0;36mraw_input\u001b[0;34m(self, prompt)\u001b[0m\n\u001b[1;32m    702\u001b[0m             \u001b[0mself\u001b[0m\u001b[0;34m.\u001b[0m\u001b[0m_parent_ident\u001b[0m\u001b[0;34m,\u001b[0m\u001b[0;34m\u001b[0m\u001b[0;34m\u001b[0m\u001b[0m\n\u001b[1;32m    703\u001b[0m             \u001b[0mself\u001b[0m\u001b[0;34m.\u001b[0m\u001b[0m_parent_header\u001b[0m\u001b[0;34m,\u001b[0m\u001b[0;34m\u001b[0m\u001b[0;34m\u001b[0m\u001b[0m\n\u001b[0;32m--> 704\u001b[0;31m             \u001b[0mpassword\u001b[0m\u001b[0;34m=\u001b[0m\u001b[0;32mFalse\u001b[0m\u001b[0;34m,\u001b[0m\u001b[0;34m\u001b[0m\u001b[0;34m\u001b[0m\u001b[0m\n\u001b[0m\u001b[1;32m    705\u001b[0m         )\n\u001b[1;32m    706\u001b[0m \u001b[0;34m\u001b[0m\u001b[0m\n",
            "\u001b[0;32m/usr/local/lib/python3.6/dist-packages/ipykernel/kernelbase.py\u001b[0m in \u001b[0;36m_input_request\u001b[0;34m(self, prompt, ident, parent, password)\u001b[0m\n\u001b[1;32m    742\u001b[0m         \u001b[0;32mif\u001b[0m \u001b[0mvalue\u001b[0m \u001b[0;34m==\u001b[0m \u001b[0;34m'\\x04'\u001b[0m\u001b[0;34m:\u001b[0m\u001b[0;34m\u001b[0m\u001b[0;34m\u001b[0m\u001b[0m\n\u001b[1;32m    743\u001b[0m             \u001b[0;31m# EOF\u001b[0m\u001b[0;34m\u001b[0m\u001b[0;34m\u001b[0m\u001b[0;34m\u001b[0m\u001b[0m\n\u001b[0;32m--> 744\u001b[0;31m             \u001b[0;32mraise\u001b[0m \u001b[0mEOFError\u001b[0m\u001b[0;34m\u001b[0m\u001b[0;34m\u001b[0m\u001b[0m\n\u001b[0m\u001b[1;32m    745\u001b[0m         \u001b[0;32mreturn\u001b[0m \u001b[0mvalue\u001b[0m\u001b[0;34m\u001b[0m\u001b[0;34m\u001b[0m\u001b[0m\n\u001b[1;32m    746\u001b[0m \u001b[0;34m\u001b[0m\u001b[0m\n",
            "\u001b[0;31mEOFError\u001b[0m: "
          ]
        }
      ]
    }
  ]
}